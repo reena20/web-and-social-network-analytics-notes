{
 "cells": [
  {
   "cell_type": "markdown",
   "metadata": {},
   "source": [
    "# Scraping tweets with Selenium\n",
    "\n",
    "In this exercise we will use selenium to copy-paste some tweets straight from the twitter website. \n",
    "\n",
    "Be aware that there are terms and conditions about how you can use these coppied data. If you abuse or overuse scraping, twitter might block or throttle (slow down) your access to their site. (like, don't scrpate 1000s of tweets in 100 parrallel selenium windows)."
   ]
  },
  {
   "cell_type": "markdown",
   "metadata": {},
   "source": [
    "This time, we import selenium first:"
   ]
  },
  {
   "cell_type": "code",
   "execution_count": 1,
   "metadata": {},
   "outputs": [],
   "source": [
    "import time\n",
    "from selenium import webdriver\n",
    "from selenium.webdriver.common.keys import Keys"
   ]
  },
  {
   "cell_type": "code",
   "execution_count": 2,
   "metadata": {},
   "outputs": [],
   "source": [
    "# define method that will create a browser, suitable to your operating system\n",
    "import sys\n",
    "def get_a_browser():\n",
    "    if sys.platform.startswith('win32') or sys.platform.startswith('cygwin'):\n",
    "        return webdriver.Chrome() # windows\n",
    "    else:\n",
    "        return webdriver.Chrome('./chromedriver') # mac"
   ]
  },
  {
   "cell_type": "markdown",
   "metadata": {},
   "source": [
    "The webdriver object can launch Internet Explorer, Firefox, and Chrome. Despite your preference, the ChromeDriver (which is a light version of Chrome) is the most widely used and complete one. You can use it to start a twitter page:"
   ]
  },
  {
   "cell_type": "code",
   "execution_count": 3,
   "metadata": {},
   "outputs": [],
   "source": [
    "# launch the browser\n",
    "browser = get_a_browser()\n",
    "\n",
    "# launch the Twitter search page\n",
    "twitter_url = u'https://twitter.com/search?q='\n",
    "\n",
    "# Add the search term\n",
    "query = u'%40edinburgh'\n",
    "# note: %40 is a code for @ symbol, so we're asking for the tweets with @edinburgh\n",
    "\n",
    "# Create the url\n",
    "url = twitter_url+query\n",
    "\n",
    "# Get the page\n",
    "browser.get(url)"
   ]
  },
  {
   "cell_type": "markdown",
   "metadata": {},
   "source": [
    "Let's do this again and unleash the power of Selenium by using keyboard controls to manipulate a page:"
   ]
  },
  {
   "cell_type": "code",
   "execution_count": 4,
   "metadata": {},
   "outputs": [
    {
     "name": "stdout",
     "output_type": "stream",
     "text": [
      "number of tweets scraped:  7\n",
      "\n",
      "--NEXT TWEET---\n",
      " Ruthanne Baxter\n",
      "@ruthannebaxter\n",
      "·\n",
      "Jan 13\n",
      "Replying to \n",
      "@Anna_Leask\n",
      " @edfests\n",
      " and 2 others\n",
      "The good news, Anna, is that James has kindly agreed to return & cover the festivals heritage going North - South of the city. Today we went East to West \n",
      "1 \n",
      "-----\n",
      "\n",
      "\n",
      "--NEXT TWEET---\n",
      " Mike MacEacheran\n",
      "@MikeMacEacheran\n",
      "·\n",
      "Jan 16\n",
      "Went for a 10km sunset snow run deep into the #Pentlands in wintry #Edinburgh this week and it was the best lockdown idea ever. \n",
      "@edinburgh\n",
      " #VisitScotland\n",
      "1\n",
      "32 \n",
      "-----\n",
      "\n",
      "\n",
      "--NEXT TWEET---\n",
      " Frank McRavall (El-Chompito Pazzo)\n",
      "@FrankMcRavall\n",
      "·\n",
      "Jan 18\n",
      "A place where I'd like to live other than my city would be the beautiful #Edinburgh ! Strolling for its streets and Royal Mile is a deep breathe in history, traditions and scot pride with its georgian, victorian and neoclassic style!\n",
      "#Travel #travelphotography #Scotland\n",
      "4\n",
      "2\n",
      "27 \n",
      "-----\n",
      "\n",
      "\n",
      "--NEXT TWEET---\n",
      " carly\n",
      "@c4rlyyyy\n",
      "·\n",
      "Jan 18\n",
      "I had the pleasure of visitingLone when I was 18 during the Festival. I walked around to different Fringe shows and did some trinket shopping and I can’t believe I did it all without a map in the days before smart phones. Lovely place. Hope to go back next year!\n",
      "1 \n",
      "-----\n",
      "\n",
      "\n",
      "--NEXT TWEET---\n",
      " Irene\n",
      "@ireneeg100\n",
      "·\n",
      "Jan 14\n",
      "Replying to \n",
      "@VisitScotland\n",
      " @moureaucarolin2\n",
      " and 2 others\n",
      "Stunning photo of one of my favourite cities \n",
      " \n",
      "Reminds me of Cloud City #StarWars\n",
      "2 \n",
      "-----\n",
      "\n",
      "\n",
      "--NEXT TWEET---\n",
      " bruce findlay\n",
      "#TestTraceIsolate\n",
      "@brucerisk\n",
      "·\n",
      "Jan 12\n",
      "Today's permitted walk close to home.... Modern Art Gallery grounds...and then...the Water Of Leith...smile. \n",
      "@Edinburgh\n",
      "4\n",
      "19 \n",
      "-----\n",
      "\n",
      "\n",
      "--NEXT TWEET---\n",
      " VisitScotland\n",
      "@VisitScotland\n",
      "·\n",
      "Jan 16\n",
      "A book lovers DREAM!\n",
      " Who wishes they could visit this wee gem? \n",
      " Armchair Books, #Edinburgh \n",
      "IG/viewofedinburgh\n",
      " For now travel is not permitted. Our content is intended as inspiration for future visits only. #StayHome\n",
      " #StaySafe \n",
      "33\n",
      "187\n",
      "1.4K \n",
      "-----\n",
      "\n"
     ]
    }
   ],
   "source": [
    "browser = get_a_browser()\n",
    "browser.get(url)\n",
    "\n",
    "# Let the Tweets load\n",
    "time.sleep(1)\n",
    "\n",
    "# Find the body of the HTML page\n",
    "body = browser.find_element_by_tag_name('body')\n",
    "\n",
    "# Keep scrolling down using a simulation of the PAGE_DOWN button\n",
    "for _ in range(2):\n",
    "    body.send_keys(Keys.PAGE_DOWN)\n",
    "    time.sleep(0.2)\n",
    "\n",
    "# Get the tweets by their class (similar to Beautifulsoup's find())\n",
    "tweets = browser.find_elements_by_xpath('.//div[@data-testid=\"tweet\"]');\n",
    "\n",
    "print(\"number of tweets scraped: \", len(tweets))\n",
    "\n",
    "# Print Tweets\n",
    "for tweet in tweets:\n",
    "    print(\"\\n--NEXT TWEET---\\n\", tweet.text, \"\\n-----\\n\")"
   ]
  },
  {
   "cell_type": "code",
   "execution_count": null,
   "metadata": {},
   "outputs": [],
   "source": [
    "\n",
    "\n",
    "\n"
   ]
  }
 ],
 "metadata": {
  "kernelspec": {
   "display_name": "Python 3",
   "language": "python",
   "name": "python3"
  },
  "language_info": {
   "codemirror_mode": {
    "name": "ipython",
    "version": 3
   },
   "file_extension": ".py",
   "mimetype": "text/x-python",
   "name": "python",
   "nbconvert_exporter": "python",
   "pygments_lexer": "ipython3",
   "version": "3.8.5"
  }
 },
 "nbformat": 4,
 "nbformat_minor": 2
}
