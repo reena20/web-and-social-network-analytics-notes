{
 "cells": [
  {
   "cell_type": "markdown",
   "metadata": {},
   "source": [
    "## Exercise 2"
   ]
  },
  {
   "cell_type": "markdown",
   "metadata": {},
   "source": [
    "Retrieve all the scores of the iPhone 11 on carphonewarehouse.com:\n",
    "- Search the code for the location of the score (Hint: right click -> inspect when you click on the score)\n",
    "- You might have to streamline the scrolling\n",
    "\n",
    "IMPORTANT NOTE: This will only work on your own machine (not via noteable, I think). Also: You'll need to unzip the chrome driver in the folder where your notebook is."
   ]
  },
  {
   "cell_type": "code",
   "execution_count": 5,
   "metadata": {},
   "outputs": [],
   "source": [
    "import time\n",
    "from bs4 import BeautifulSoup\n",
    "from selenium import webdriver\n",
    "from selenium.webdriver.common.keys import Keys\n",
    "from selenium.common.exceptions import NoSuchElementException"
   ]
  },
  {
   "cell_type": "code",
   "execution_count": 5,
   "metadata": {},
   "outputs": [
    {
     "name": "stdout",
     "output_type": "stream",
     "text": [
      "Collecting selenium\n",
      "  Downloading selenium-3.141.0-py2.py3-none-any.whl (904 kB)\n",
      "Requirement already satisfied: urllib3 in c:\\users\\reena\\anaconda3\\lib\\site-packages (from selenium) (1.25.11)\n",
      "Installing collected packages: selenium\n",
      "Successfully installed selenium-3.141.0\n"
     ]
    }
   ],
   "source": [
    "!pip install selenium"
   ]
  },
  {
   "cell_type": "code",
   "execution_count": 10,
   "metadata": {},
   "outputs": [
    {
     "name": "stdout",
     "output_type": "stream",
     "text": [
      "Collecting webdriver-manager\n",
      "  Downloading webdriver_manager-3.2.2-py2.py3-none-any.whl (16 kB)\n",
      "Requirement already satisfied: requests in c:\\users\\reena\\anaconda3\\lib\\site-packages (from webdriver-manager) (2.24.0)\n",
      "Collecting crayons\n",
      "  Downloading crayons-0.4.0-py2.py3-none-any.whl (4.6 kB)\n",
      "Collecting configparser\n",
      "  Downloading configparser-5.0.1-py3-none-any.whl (22 kB)\n",
      "Requirement already satisfied: idna<3,>=2.5 in c:\\users\\reena\\anaconda3\\lib\\site-packages (from requests->webdriver-manager) (2.10)\n",
      "Requirement already satisfied: certifi>=2017.4.17 in c:\\users\\reena\\anaconda3\\lib\\site-packages (from requests->webdriver-manager) (2020.6.20)\n",
      "Requirement already satisfied: chardet<4,>=3.0.2 in c:\\users\\reena\\anaconda3\\lib\\site-packages (from requests->webdriver-manager) (3.0.4)\n",
      "Requirement already satisfied: urllib3!=1.25.0,!=1.25.1,<1.26,>=1.21.1 in c:\\users\\reena\\anaconda3\\lib\\site-packages (from requests->webdriver-manager) (1.25.11)\n",
      "Requirement already satisfied: colorama in c:\\users\\reena\\anaconda3\\lib\\site-packages (from crayons->webdriver-manager) (0.4.4)\n",
      "Installing collected packages: crayons, configparser, webdriver-manager\n",
      "Successfully installed configparser-5.0.1 crayons-0.4.0 webdriver-manager-3.2.2\n",
      "Note: you may need to restart the kernel to use updated packages.\n"
     ]
    }
   ],
   "source": [
    "pip install webdriver-manager"
   ]
  },
  {
   "cell_type": "code",
   "execution_count": 11,
   "metadata": {},
   "outputs": [],
   "source": [
    "from webdriver_manager.chrome import ChromeDriverManager"
   ]
  },
  {
   "cell_type": "code",
   "execution_count": 12,
   "metadata": {},
   "outputs": [
    {
     "name": "stderr",
     "output_type": "stream",
     "text": [
      "[WDM] - Current google-chrome version is 87.0.4280\n",
      "[WDM] - Get LATEST driver version for 87.0.4280\n"
     ]
    },
    {
     "name": "stdout",
     "output_type": "stream",
     "text": [
      " \n"
     ]
    },
    {
     "name": "stderr",
     "output_type": "stream",
     "text": [
      "[WDM] - There is no [win32] chromedriver for browser 87.0.4280 in cache\n",
      "[WDM] - Get LATEST driver version for 87.0.4280\n",
      "[WDM] - Trying to download new driver from http://chromedriver.storage.googleapis.com/87.0.4280.88/chromedriver_win32.zip\n",
      "[WDM] - Driver has been saved in cache [C:\\Users\\reena\\.wdm\\drivers\\chromedriver\\win32\\87.0.4280.88]\n"
     ]
    }
   ],
   "source": [
    "driver = webdriver.Chrome(ChromeDriverManager().install())"
   ]
  },
  {
   "cell_type": "code",
   "execution_count": 16,
   "metadata": {
    "scrolled": false
   },
   "outputs": [],
   "source": [
    "browser = webdriver.Chrome() #('./chromedriver')"
   ]
  },
  {
   "cell_type": "code",
   "execution_count": 2,
   "metadata": {},
   "outputs": [],
   "source": [
    "# define method that will create a browser, suitable to your operating system\n",
    "import sys\n",
    "def get_a_browser():\n",
    "    if sys.platform.startswith('win32') or sys.platform.startswith('cygwin'):\n",
    "        return webdriver.Chrome() # windows\n",
    "    else:\n",
    "        return webdriver.Chrome('./chromedriver') # mac"
   ]
  },
  {
   "cell_type": "markdown",
   "metadata": {},
   "source": [
    " <font color='red'>Class name found in the try catch block for active button is - </font>\n",
    " ## <span style='background :yellow' > <font color='red'>bv-content-btn bv-content-btn-pages bv-content-btn-pages-last bv-focusable bv-content-btn-pages-active</font>  </span>\n",
    "Need to check\n"
   ]
  },
  {
   "cell_type": "code",
   "execution_count": 11,
   "metadata": {},
   "outputs": [
    {
     "name": "stdout",
     "output_type": "stream",
     "text": [
      "<selenium.webdriver.remote.webelement.WebElement (session=\"1b573536f31a32edf50335d046143963\", element=\"7250ff85-bd2d-4170-9d71-a98a8a92aa6c\")>\n",
      "Score:  3.9 \n",
      "Score: 4.3\n",
      "Score: 3.7\n",
      "Score: 4.2\n",
      "Score: 4.3\n",
      "Score: 3.7\n",
      "\n",
      "Page:  0\n",
      "Score:  3.9 \n",
      "Score: 4.3\n",
      "Score: 3.7\n",
      "Score: 4.2\n",
      "Score: 4.3\n",
      "Score: 3.7\n",
      "Review: Rating Snapshot\n",
      "Review: Average Customer Ratings\n",
      "Review:     Great phone   \n",
      "Review:     Worst iPhone ever   \n",
      "Review:     Absolutely amazing phone   \n",
      "Review:     Great phone nice price   \n",
      "Review:     Great phone.   \n",
      "Review:     Good phone   \n",
      "Review:     Great phone !!   \n",
      "Review:     Good   \n",
      "Review:     Amazing phone xx   \n",
      "Review:     Nice   \n",
      "Review:  4 Ratings-only reviews \n",
      "\n",
      "Page:  1\n",
      "This is the last page.\n"
     ]
    }
   ],
   "source": [
    "# define the browser\n",
    "# on learn, the Chrome webdriver is included, which is used here, make sure it is in the same folder as the py file\n",
    "#browser = webdriver.Chrome('./chromedriver')\n",
    "\n",
    "browser=get_a_browser()\n",
    "# the url we want to open\n",
    "# fill in the correct url for the iPhone 11\n",
    "url = u'https://www.carphonewarehouse.com/apple/iphone-11.html#!colour=black&capacity=64GB&dealType=pm'\n",
    "\n",
    "\n",
    "# the browser will start and load the webpage\n",
    "browser.get(url)\n",
    "\n",
    "# we wait 1 second to let the page load everything\n",
    "time.sleep(1)\n",
    "\n",
    "# we load the HTML body (the main page content without headers, footers, etc.)\n",
    "body = browser.find_element_by_tag_name('body')\n",
    "\n",
    "# we use seleniums' send_keys() function to physically scroll down where we want to click\n",
    "body.send_keys(Keys.PAGE_DOWN)\n",
    "body.send_keys(Keys.PAGE_DOWN)\n",
    "\n",
    "time.sleep(1)\n",
    "\n",
    "accept_cookies=browser.find_element_by_id('onetrust-accept-btn-handler')\n",
    "print(accept_cookies)\n",
    "accept_cookies.click();\n",
    "time.sleep(1)\n",
    "\n",
    "\n",
    "\n",
    "# What is written on the button/tab that you need to click to see the reviews?\n",
    "# the button can be clicked with the .click() function\n",
    "\n",
    "browser.find_element_by_link_text(\"Reviews\").click();\n",
    "\n",
    "\n",
    "# we need to scroll further down to collect the reviews and especially click the next button\n",
    "body.send_keys(Keys.PAGE_DOWN)\n",
    "\n",
    "# sleep again, let everything load\n",
    "time.sleep(2)\n",
    "\n",
    "\n",
    "def find_scores_in_source(html_source):\n",
    "    # see beautifulsoup\n",
    "    soup = BeautifulSoup(html_source, 'html.parser')\n",
    "    # find all the elements of class pros and print them\n",
    "    # what is the css class of the element that holds the review score, like 4.4\n",
    "   # divTag = soup.find_all('span', attrs={'class': '..........'}) \n",
    "    divTag = soup.find_all('span', attrs={'class': 'bv-secondary-rating-summary-rating'}) \n",
    "    for d in divTag:\n",
    "        print(\"Score: \"+d.text)\n",
    "        \n",
    "def find_reviews_in_source(html_source):\n",
    "    soup = BeautifulSoup(html_source, 'html.parser')\n",
    "    review_tag = soup.find_all('h4', {'class': 'bv-content-title'})\n",
    "    for tag in review_tag:\n",
    "        print('Review:' ,tag.text)\n",
    "\n",
    "find_scores_in_source(browser.page_source)      \n",
    "        \n",
    "# loop the following 10 times\n",
    "for which_page in range(10):\n",
    "    print('\\nPage: ', which_page)\n",
    "    # search for the next button to access the next reviews, what are its classes? (you want the button to be active)\n",
    "    # note: in css you represent many classes like this:    .class1.class2.class3   \n",
    "    try:\n",
    "        next_button = browser.find_element_by_css_selector('.bv-content-btn-pages-last.bv-content-btn-pages-active')\n",
    "        next_button.click()\n",
    "    except NoSuchElementException:\n",
    "        print('This is the last page.')\n",
    "        break\n",
    "    # scroll down to get the reviews\n",
    "    body.send_keys(Keys.PAGE_DOWN)\n",
    "    time.sleep(1)\n",
    "    # get the page content for beautiful soup\n",
    "    find_scores_in_source(browser.page_source) \n",
    "    find_reviews_in_source(browser.page_source)\n"
   ]
  },
  {
   "cell_type": "code",
   "execution_count": null,
   "metadata": {},
   "outputs": [],
   "source": []
  }
 ],
 "metadata": {
  "kernelspec": {
   "display_name": "Python 3",
   "language": "python",
   "name": "python3"
  },
  "language_info": {
   "codemirror_mode": {
    "name": "ipython",
    "version": 3
   },
   "file_extension": ".py",
   "mimetype": "text/x-python",
   "name": "python",
   "nbconvert_exporter": "python",
   "pygments_lexer": "ipython3",
   "version": "3.8.5"
  }
 },
 "nbformat": 4,
 "nbformat_minor": 2
}
