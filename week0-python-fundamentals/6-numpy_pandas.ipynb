{
 "cells": [
  {
   "cell_type": "markdown",
   "metadata": {},
   "source": [
    "In this notebook, some basic procedures that exist in NumPy, pandas, and scikit-learn are covered. This only scratches the surface of the possibilities, and many other functions and code will be used later on. Make sure to search around for the possiblities that exist yourself, and get a grasp of how the modules are called and used. Let's import them in this notebook to start with:"
   ]
  },
  {
   "cell_type": "code",
   "execution_count": 1,
   "metadata": {},
   "outputs": [
    {
     "name": "stdout",
     "output_type": "stream",
     "text": [
      "Requirement already satisfied: sklearn in c:\\users\\reena\\anaconda3\\lib\\site-packages (0.0)\n",
      "Requirement already satisfied: scikit-learn in c:\\users\\reena\\anaconda3\\lib\\site-packages (from sklearn) (0.23.1)\n",
      "Requirement already satisfied: numpy>=1.13.3 in c:\\users\\reena\\anaconda3\\lib\\site-packages (from scikit-learn->sklearn) (1.19.2)\n",
      "Requirement already satisfied: joblib>=0.11 in c:\\users\\reena\\anaconda3\\lib\\site-packages (from scikit-learn->sklearn) (0.17.0)\n",
      "Requirement already satisfied: scipy>=0.19.1 in c:\\users\\reena\\anaconda3\\lib\\site-packages (from scikit-learn->sklearn) (1.5.2)\n",
      "Requirement already satisfied: threadpoolctl>=2.0.0 in c:\\users\\reena\\anaconda3\\lib\\site-packages (from scikit-learn->sklearn) (2.1.0)\n"
     ]
    }
   ],
   "source": [
    "!pip install sklearn\n",
    "\n",
    "import numpy as np\n",
    "import pandas as pd\n",
    "import sklearn\n",
    "\n"
   ]
  },
  {
   "cell_type": "markdown",
   "metadata": {},
   "source": [
    "# NumPy"
   ]
  },
  {
   "cell_type": "markdown",
   "metadata": {},
   "source": [
    "NumPy can be used for many different things, most notably for manipulating arrays and performing mathematical operations:"
   ]
  },
  {
   "cell_type": "code",
   "execution_count": 2,
   "metadata": {},
   "outputs": [
    {
     "name": "stdout",
     "output_type": "stream",
     "text": [
      "Empty array: \n",
      " [0. 0. 0. 0. 0.]\n",
      "Empty matrix: \n",
      " [[0. 0.]\n",
      " [0. 0.]\n",
      " [0. 0.]\n",
      " [0. 0.]\n",
      " [0. 0.]]\n"
     ]
    }
   ],
   "source": [
    "# Create empty arrays/matrices\n",
    "empty_array = np.zeros(5)\n",
    "\n",
    "empty_matrix = np.zeros((5,2))\n",
    "\n",
    "print('Empty array: \\n',empty_array)\n",
    "print('Empty matrix: \\n',empty_matrix)"
   ]
  },
  {
   "cell_type": "code",
   "execution_count": 3,
   "metadata": {},
   "outputs": [
    {
     "name": "stdout",
     "output_type": "stream",
     "text": [
      "Matrix: \n",
      " [[1 2 3]\n",
      " [4 5 6]]\n",
      "Transpose: \n",
      " [[1 4]\n",
      " [2 5]\n",
      " [3 6]]\n",
      "Item 2,2:  5\n",
      "Item 2,3:  6\n",
      "rows and columns:  (2, 3)\n",
      "Sum total matrix:  21\n",
      "Sum row 1:  6\n",
      "Sum row 2:  15\n",
      "Sum column 2:  9\n"
     ]
    }
   ],
   "source": [
    "# Create matrices\n",
    "mat = np.array([[1,2,3],[4,5,6]])\n",
    "print('Matrix: \\n', mat)\n",
    "print('Transpose: \\n', mat.T)\n",
    "print('Item 2,2: ', mat[1,1])\n",
    "print('Item 2,3: ', mat[1,2])\n",
    "print('rows and columns: ', np.shape(mat))\n",
    "print('Sum total matrix: ', np.sum(mat))\n",
    "print('Sum row 1: ' , np.sum(mat[0]))\n",
    "print('Sum row 2: ', np.sum(mat[1]))\n",
    "print('Sum column 2: ', np.sum(mat,axis=0)[2])"
   ]
  },
  {
   "cell_type": "markdown",
   "metadata": {},
   "source": [
    "# pandas"
   ]
  },
  {
   "cell_type": "markdown",
   "metadata": {},
   "source": [
    "### Creating dataframes"
   ]
  },
  {
   "cell_type": "markdown",
   "metadata": {},
   "source": [
    "pandas is great for reading and creating datasets, as well as performing basic operations on them."
   ]
  },
  {
   "cell_type": "code",
   "execution_count": 4,
   "metadata": {},
   "outputs": [
    {
     "name": "stdout",
     "output_type": "stream",
     "text": [
      "          0   1\n",
      "0  johannes  10\n",
      "1  giovanni   2\n",
      "2      john   3\n"
     ]
    }
   ],
   "source": [
    "# Creating a matrix with three rows of data\n",
    "data = [['johannes',10], ['giovanni',2], ['john',3]]\n",
    "\n",
    "# Creating and printing a pandas DataFrame object from the matrix\n",
    "df = pd.DataFrame(data)\n",
    "print(df)"
   ]
  },
  {
   "cell_type": "code",
   "execution_count": 5,
   "metadata": {},
   "outputs": [
    {
     "name": "stdout",
     "output_type": "stream",
     "text": [
      "      names  years\n",
      "0  johannes     10\n",
      "1  giovanni      2\n",
      "2      john      3\n"
     ]
    }
   ],
   "source": [
    "# Adding columns to the DataFrame object\n",
    "df.columns = ['names', 'years']\n",
    "print(df)"
   ]
  },
  {
   "cell_type": "markdown",
   "metadata": {},
   "source": [
    "Alternative:"
   ]
  },
  {
   "cell_type": "code",
   "execution_count": 6,
   "metadata": {},
   "outputs": [
    {
     "name": "stdout",
     "output_type": "stream",
     "text": [
      "      names  years\n",
      "0  johannes     10\n",
      "1  giovanni      2\n",
      "2      john      3\n"
     ]
    }
   ],
   "source": [
    "df_2 = pd.DataFrame(data = data, columns = ['names', 'years'])\n",
    "print(df_2)"
   ]
  },
  {
   "cell_type": "code",
   "execution_count": 7,
   "metadata": {},
   "outputs": [
    {
     "name": "stdout",
     "output_type": "stream",
     "text": [
      "0    10\n",
      "1     2\n",
      "2     3\n",
      "Name: years, dtype: int64\n",
      "Sum of all values in column:  15\n"
     ]
    }
   ],
   "source": [
    "# Taking out a single column and calculating its sum\n",
    "# This also shows the type of the variable: a 64 bit integer (array)\n",
    "print(df['years'])\n",
    "print('Sum of all values in column: ', df['years'].sum())"
   ]
  },
  {
   "cell_type": "code",
   "execution_count": 8,
   "metadata": {},
   "outputs": [
    {
     "name": "stdout",
     "output_type": "stream",
     "text": [
      "      names  years\n",
      "0  johannes     10\n",
      "1  giovanni      2\n",
      "2      john      3\n",
      "3  giovanni      2\n",
      "4      john      3\n",
      "\n",
      "\n",
      "      names  years\n",
      "5  giovanni      2\n",
      "6      john      3\n",
      "7  giovanni      2\n",
      "8      john      3\n",
      "9  johannes     10\n"
     ]
    }
   ],
   "source": [
    "# Creating a larger matrix\n",
    "data = [['johannes',10], ['giovanni',2], ['john',3], ['giovanni',2], ['john',3], ['giovanni',2], ['john',3], ['giovanni',2], ['john',3], ['johannes',10]]\n",
    "\n",
    "# Again, creating a DataFrame object, now with columns\n",
    "df = pd.DataFrame(data, columns = ['names','years'])\n",
    "\n",
    "# Print the 5 first (head) and 5 last (tail) observations\n",
    "print(df.head())\n",
    "print('\\n')\n",
    "print(df.tail())"
   ]
  },
  {
   "cell_type": "markdown",
   "metadata": {},
   "source": [
    "### Reading files"
   ]
  },
  {
   "cell_type": "markdown",
   "metadata": {},
   "source": [
    "You can read files:"
   ]
  },
  {
   "cell_type": "code",
   "execution_count": 55,
   "metadata": {},
   "outputs": [
    {
     "name": "stdout",
     "output_type": "stream",
     "text": [
      "    Odilia Ellerbee  F  1962\n",
      "0    Rosia    Babst  F  1721\n",
      "1  Zackary    Ellis  M  1589\n",
      "2      Leo  Brescia  M  1248\n",
      "3   Santos  Falcone  M  1743\n",
      "4       Ta     Burr  F  1704\n"
     ]
    }
   ],
   "source": [
    "dataset = pd.read_csv('amounts.csv')\n",
    "print(dataset.head())"
   ]
  },
  {
   "cell_type": "code",
   "execution_count": 56,
   "metadata": {
    "scrolled": true
   },
   "outputs": [
    {
     "name": "stdout",
     "output_type": "stream",
     "text": [
      "        first_name last_name  amount\n",
      "Odilia    Ellerbee         F    1962\n",
      "Rosia        Babst         F    1721\n",
      "Zackary      Ellis         M    1589\n",
      "Leo        Brescia         M    1248\n",
      "Santos     Falcone         M    1743\n"
     ]
    }
   ],
   "source": [
    "dataset = pd.read_csv('amounts.csv', names = ['first_name', 'last_name', 'amount'])\n",
    "print(dataset.head())"
   ]
  },
  {
   "cell_type": "markdown",
   "metadata": {},
   "source": [
    "### Using dataframes"
   ]
  },
  {
   "cell_type": "code",
   "execution_count": 9,
   "metadata": {},
   "outputs": [
    {
     "name": "stdout",
     "output_type": "stream",
     "text": [
      "['johannes' 'giovanni' 'john']\n"
     ]
    }
   ],
   "source": [
    "# Print all unique values of the column names\n",
    "print(df['names'].unique())"
   ]
  },
  {
   "cell_type": "code",
   "execution_count": 10,
   "metadata": {},
   "outputs": [
    {
     "name": "stdout",
     "output_type": "stream",
     "text": [
      "john        4\n",
      "giovanni    4\n",
      "johannes    2\n",
      "Name: names, dtype: int64\n",
      "3     4\n",
      "2     4\n",
      "10    2\n",
      "Name: years, dtype: int64\n"
     ]
    }
   ],
   "source": [
    "# Print all values and their frequency:\n",
    "print(df['names'].value_counts())\n",
    "print(df['years'].value_counts())"
   ]
  },
  {
   "cell_type": "code",
   "execution_count": 11,
   "metadata": {},
   "outputs": [
    {
     "name": "stdout",
     "output_type": "stream",
     "text": [
      "      names  years  code\n",
      "0  johannes     10   0.0\n",
      "1  giovanni      2   0.0\n",
      "2      john      3   0.0\n",
      "3  giovanni      2   0.0\n",
      "4      john      3   0.0\n",
      "5  giovanni      2   0.0\n",
      "6      john      3   0.0\n",
      "7  giovanni      2   0.0\n",
      "8      john      3   0.0\n",
      "9  johannes     10   0.0\n"
     ]
    }
   ],
   "source": [
    "# Add a column names 'code' with all zeros\n",
    "df['code'] = np.zeros(10)\n",
    "print(df)"
   ]
  },
  {
   "cell_type": "markdown",
   "metadata": {},
   "source": [
    "You can also easily find things in a DataFrame use ```.loc```:"
   ]
  },
  {
   "cell_type": "code",
   "execution_count": 12,
   "metadata": {},
   "outputs": [
    {
     "name": "stdout",
     "output_type": "stream",
     "text": [
      "      names  years  code\n",
      "2      john      3   0.0\n",
      "3  giovanni      2   0.0\n",
      "4      john      3   0.0\n",
      "5  giovanni      2   0.0\n"
     ]
    }
   ],
   "source": [
    "# Rows 2 to 5 and all columns:\n",
    "print(df.loc[2:5, :])"
   ]
  },
  {
   "cell_type": "code",
   "execution_count": 13,
   "metadata": {},
   "outputs": [
    {
     "name": "stdout",
     "output_type": "stream",
     "text": [
      "0    johannes\n",
      "1    giovanni\n",
      "2        john\n",
      "3    giovanni\n",
      "4        john\n",
      "5    giovanni\n",
      "6        john\n",
      "7    giovanni\n",
      "8        john\n",
      "9    johannes\n",
      "Name: names, dtype: object\n",
      "0    10\n",
      "1     2\n",
      "2     3\n",
      "3     2\n",
      "4     3\n",
      "5     2\n",
      "6     3\n",
      "7     2\n",
      "8     3\n",
      "9    10\n",
      "Name: years, dtype: int64\n",
      "0    0.0\n",
      "1    0.0\n",
      "2    0.0\n",
      "3    0.0\n",
      "4    0.0\n",
      "5    0.0\n",
      "6    0.0\n",
      "7    0.0\n",
      "8    0.0\n",
      "9    0.0\n",
      "Name: code, dtype: float64\n"
     ]
    }
   ],
   "source": [
    "# Looping columns\n",
    "for variable in df.columns:\n",
    "    print(df[variable])"
   ]
  },
  {
   "cell_type": "code",
   "execution_count": 14,
   "metadata": {},
   "outputs": [
    {
     "name": "stdout",
     "output_type": "stream",
     "text": [
      "['johannes' 'giovanni' 'john' 'giovanni' 'john' 'giovanni' 'john'\n",
      " 'giovanni' 'john' 'johannes']\n",
      "[10  2  3  2  3  2  3  2  3 10]\n",
      "[0. 0. 0. 0. 0. 0. 0. 0. 0. 0.]\n"
     ]
    }
   ],
   "source": [
    "# Looping columns and obtaining the values (which returns an array)\n",
    "for variable in df.columns:\n",
    "    print(df[variable].values)"
   ]
  },
  {
   "cell_type": "code",
   "execution_count": null,
   "metadata": {},
   "outputs": [],
   "source": []
  }
 ],
 "metadata": {
  "kernelspec": {
   "display_name": "Python 3",
   "language": "python",
   "name": "python3"
  },
  "language_info": {
   "codemirror_mode": {
    "name": "ipython",
    "version": 3
   },
   "file_extension": ".py",
   "mimetype": "text/x-python",
   "name": "python",
   "nbconvert_exporter": "python",
   "pygments_lexer": "ipython3",
   "version": "3.8.5"
  }
 },
 "nbformat": 4,
 "nbformat_minor": 2
}
